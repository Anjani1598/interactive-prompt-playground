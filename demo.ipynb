{
 "cells": [
  {
   "cell_type": "code",
   "id": "initial_id",
   "metadata": {
    "collapsed": true,
    "ExecuteTime": {
     "end_time": "2025-05-28T13:18:53.010616Z",
     "start_time": "2025-05-28T13:18:46.850837Z"
    }
   },
   "source": [
    "import itertools\n",
    "\n",
    "import openai\n",
    "import traceback\n",
    "from openai import OpenAI\n",
    "import pandas as pd\n",
    "from dotenv import load_dotenv\n",
    "\n",
    "import os\n",
    "load_dotenv()\n",
    "api_key = os.getenv(\"OPENAI_API_KEY\")\n",
    "\n",
    "client = OpenAI(\n",
    "  api_key = api_key,\n",
    ")\n",
    "\n",
    "system_prompt = \"You are a helpful assistant who writes product descriptions.\"\n",
    "user_prompt  = input(\"Ask Any product Description : \")\n",
    "model = \"gpt-4o-mini\"  # Specify the model you want to use\n",
    "\n",
    "\n",
    "# Parameters to vary\n",
    "temperatures = [0.0, 0.7, 1.2]\n",
    "max_tokens_list = [50, 150, 300]\n",
    "frequency_penalties = [0.0, 1.5]\n",
    "presence_penalties = [0.0, 1.5]\n",
    "\n",
    "results = []\n",
    "\n",
    "\n",
    "combinations = list(itertools.product(temperatures, max_tokens_list, frequency_penalties, presence_penalties))\n",
    "\n",
    "print(f\"Running {len(combinations)} combinations...\")\n",
    "\n",
    "for temp, max_tokens, freq_penalty, pres_penalty in combinations[:1]:\n",
    "    try:\n",
    "        response = client.chat.completions.create(\n",
    "            model=model,\n",
    "            messages=[\n",
    "                {\"role\": \"system\", \"content\": system_prompt},\n",
    "                {\"role\": \"user\", \"content\": user_prompt}\n",
    "            ],\n",
    "            temperature=temp,\n",
    "            max_tokens=max_tokens,\n",
    "            frequency_penalty=freq_penalty,\n",
    "            presence_penalty=pres_penalty,\n",
    "\n",
    "        )\n",
    "\n",
    "        output = response.choices[0].message.content.strip()\n",
    "\n",
    "        results.append({\n",
    "            \"Model\": model,\n",
    "            \"Temperature\": temp,\n",
    "            \"Max Tokens\": max_tokens,\n",
    "            \"Frequency Penalty\": freq_penalty,\n",
    "            \"Presence Penalty\": pres_penalty,\n",
    "            \"Output\": output\n",
    "        })\n",
    "\n",
    "    except Exception as e:\n",
    "        error_details = traceback.format_exc()\n",
    "        results.append({\n",
    "        \"Model\": model,\n",
    "        \"Temperature\": temp,\n",
    "        \"Max Tokens\": max_tokens,\n",
    "        \"Frequency Penalty\": freq_penalty,\n",
    "        \"Presence Penalty\": pres_penalty,\n",
    "        \"Output\": f\"Error:\\n{error_details}\"\n",
    "    })\n",
    "\n",
    "# Convert to DataFrame\n",
    "df = pd.DataFrame(results)\n",
    "\n",
    "# Display\n",
    "print(df)\n",
    "df.to_csv(\"prompt_playground_outputs.csv\", index=False)\n"
   ],
   "outputs": [
    {
     "name": "stdout",
     "output_type": "stream",
     "text": [
      "Running 36 combinations...\n",
      "         Model  Temperature  Max Tokens  Frequency Penalty  Presence Penalty  \\\n",
      "0  gpt-4o-mini          0.0          50                0.0               0.0   \n",
      "\n",
      "                                              Output  \n",
      "0  **Apple iPhone: The Ultimate Smartphone Experi...  \n"
     ]
    }
   ],
   "execution_count": 13
  }
 ],
 "metadata": {
  "kernelspec": {
   "display_name": "Python 3",
   "language": "python",
   "name": "python3"
  },
  "language_info": {
   "codemirror_mode": {
    "name": "ipython",
    "version": 2
   },
   "file_extension": ".py",
   "mimetype": "text/x-python",
   "name": "python",
   "nbconvert_exporter": "python",
   "pygments_lexer": "ipython2",
   "version": "2.7.6"
  }
 },
 "nbformat": 4,
 "nbformat_minor": 5
}
